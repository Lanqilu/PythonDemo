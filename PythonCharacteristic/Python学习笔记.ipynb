{
  "nbformat": 4,
  "nbformat_minor": 0,
  "metadata": {
    "colab": {
      "name": "Python学习笔记",
      "provenance": []
    },
    "kernelspec": {
      "name": "python3",
      "display_name": "Python 3"
    }
  },
  "cells": [
    {
      "cell_type": "markdown",
      "metadata": {
        "id": "ir6CXcv-k7Ff",
        "colab_type": "text"
      },
      "source": [
        "    解压序列赋值给多个变量"
      ]
    },
    {
      "cell_type": "code",
      "metadata": {
        "id": "hHDKMK9Fk6CH",
        "colab_type": "code",
        "outputId": "b1021423-0c2b-4d8f-9e87-a6c51f98ad05",
        "colab": {
          "base_uri": "https://localhost:8080/",
          "height": 52
        }
      },
      "source": [
        "data = [ 'ACME', 50, 91.1, (2012, 12, 21) ]\n",
        "name, shares, price, (year, mon, day) = data\n",
        "print(name)\n",
        "print(mon)"
      ],
      "execution_count": 0,
      "outputs": [
        {
          "output_type": "stream",
          "text": [
            "ACME\n",
            "12\n"
          ],
          "name": "stdout"
        }
      ]
    },
    {
      "cell_type": "code",
      "metadata": {
        "id": "CA0e3rtSlWuU",
        "colab_type": "code",
        "outputId": "552021f8-b26d-4555-93ce-1a503895240d",
        "colab": {
          "base_uri": "https://localhost:8080/",
          "height": 36
        }
      },
      "source": [
        "record = ('Dave', 'dave@example.com', '773-555-1212', '847-555-1212')\n",
        "name, email, *phone_numbers = record\n",
        "phone_numbers    #列表类型"
      ],
      "execution_count": 0,
      "outputs": [
        {
          "output_type": "execute_result",
          "data": {
            "text/plain": [
              "['773-555-1212', '847-555-1212']"
            ]
          },
          "metadata": {
            "tags": []
          },
          "execution_count": 10
        }
      ]
    },
    {
      "cell_type": "code",
      "metadata": {
        "id": "_3edhrcj66GS",
        "colab_type": "code",
        "colab": {}
      },
      "source": [
        ""
      ],
      "execution_count": 0,
      "outputs": []
    },
    {
      "cell_type": "code",
      "metadata": {
        "id": "1debZE1Pme_7",
        "colab_type": "code",
        "outputId": "3b87d3de-db15-4191-eb23-435c7085be05",
        "colab": {
          "base_uri": "https://localhost:8080/",
          "height": 36
        }
      },
      "source": [
        "line = 'nobody:*:-2:-2:Unprivileged User:/var/empty:/usr/bin/false'\n",
        "uname, *fields, homedir, sh = line.split(':')\n",
        "sh"
      ],
      "execution_count": 0,
      "outputs": [
        {
          "output_type": "execute_result",
          "data": {
            "text/plain": [
              "'/usr/bin/false'"
            ]
          },
          "metadata": {
            "tags": []
          },
          "execution_count": 11
        }
      ]
    },
    {
      "cell_type": "markdown",
      "metadata": {
        "id": "tFmwmEdXnEsq",
        "colab_type": "text"
      },
      "source": [
        "    str.split(str=\"\", num=string.count(str))\n",
        "    str -- 分隔符，默认为所有的空字符，包括空格、换行(\\n)、制表符(\\t)等。\n",
        "    num -- 分割次数。默认为 -1, 即分隔所有。\n"
      ]
    },
    {
      "cell_type": "markdown",
      "metadata": {
        "id": "JrOKbO7tiIWV",
        "colab_type": "text"
      },
      "source": [
        "    查找最大或最小的N个元素"
      ]
    },
    {
      "cell_type": "code",
      "metadata": {
        "id": "yBys01bEhScc",
        "colab_type": "code",
        "outputId": "9842a6a7-c983-474e-8f8a-23689d491b05",
        "colab": {
          "base_uri": "https://localhost:8080/",
          "height": 55
        }
      },
      "source": [
        "import heapq\n",
        "nums = [1, 8, 2, 23, 7, -4, 18, 23, 42, 37, 2]\n",
        "print(heapq.nlargest(3, nums)) # Prints [42, 37, 23]\n",
        "print(heapq.nsmallest(3, nums)) # Prints [-4, 1, 2]"
      ],
      "execution_count": 0,
      "outputs": [
        {
          "output_type": "stream",
          "text": [
            "[42, 37, 23]\n",
            "[-4, 1, 2]\n"
          ],
          "name": "stdout"
        }
      ]
    },
    {
      "cell_type": "code",
      "metadata": {
        "id": "x-bpqquVjLNd",
        "colab_type": "code",
        "outputId": "f16ae92e-5d83-4cef-88df-e9c0faee9244",
        "colab": {
          "base_uri": "https://localhost:8080/",
          "height": 55
        }
      },
      "source": [
        "portfolio = [\n",
        "    {'name': 'IBM', 'shares': 100, 'price': 91.1},\n",
        "    {'name': 'AAPL', 'shares': 50, 'price': 543.22},\n",
        "    {'name': 'FB', 'shares': 200, 'price': 21.09},\n",
        "    {'name': 'HPQ', 'shares': 35, 'price': 31.75},\n",
        "    {'name': 'YHOO', 'shares': 45, 'price': 16.35},\n",
        "    {'name': 'ACME', 'shares': 75, 'price': 115.65}\n",
        "]\n",
        "cheap = heapq.nsmallest(1, portfolio, key=lambda s: s['price'])\n",
        "expensive = heapq.nlargest(1, portfolio, key=lambda s: s['price'])\n",
        "print(cheap)\n",
        "print(expensive)"
      ],
      "execution_count": 0,
      "outputs": [
        {
          "output_type": "stream",
          "text": [
            "[{'name': 'YHOO', 'shares': 45, 'price': 16.35}]\n",
            "[{'name': 'AAPL', 'shares': 50, 'price': 543.22}]\n"
          ],
          "name": "stdout"
        }
      ]
    }
  ]
}