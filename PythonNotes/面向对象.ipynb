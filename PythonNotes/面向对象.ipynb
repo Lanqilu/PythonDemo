{
 "cells": [
  {
   "cell_type": "markdown",
   "metadata": {},
   "source": [
    "# 面向对象\n",
    "\n",
    "- **类(Class):** 用来描述具有相同的属性和方法的对象的集合。它定义了该集合中每个对象所共有的属性和方法。对象是类的实例。\n",
    "\n",
    "- **方法：**类中定义的函数。\n",
    "\n",
    "- **类变量：**类变量在整个实例化的对象中是公用的。类变量定义在类中且在函数体之外。类变量通常不作为实例变量使用。\n",
    "\n",
    "- **数据成员：**类变量或者实例变量用于处理类及其实例对象的相关的数据。\n",
    "\n",
    "- **方法重写：**如果从父类继承的方法不能满足子类的需求，可以对其进行改写，这个过程叫方法的覆盖（override），也称为方法的重写。\n",
    "\n",
    "- **局部变量：**定义在方法中的变量，只作用于当前实例的类。\n",
    "\n",
    "- **实例变量：**在类的声明中，属性是用变量来表示的。这种变量就称为实例变量，是在类声明的内部但是在类的其他成员方法之外声明的。\n",
    "\n",
    "- **继承：**即一个派生类（derived class）继承基类（base class）的字段和方法。继承也允许把一个派生类的对象作为一个基类对象对待。例如，有这样一个设计：一个Dog类型的对象派生自Animal类，这是模拟\"是一个（is-a）\"关系（例图，Dog是一个Animal）。\n",
    "\n",
    "- **实例化：**创建一个类的实例，类的具体对象。\n",
    "\n",
    "- **对象：**通过类定义的数据结构实例。对象包括两个数据成员（类变量和实例变量）和方法。"
   ]
  },
  {
   "cell_type": "markdown",
   "metadata": {},
   "source": [
    "#### 类和实例\n",
    "面向对象最重要的概念就是类（Class）和实例（Instance）\n",
    "\n",
    "类是抽象的模板，比如Student类\n",
    "\n",
    "实例是根据类创建出来的一个个具体的“对象”，每个对象都拥有相同的方法，各个实例拥有的数据都互相独立，互不影响\n",
    "\n",
    "方法就是与实例绑定的函数，和普通函数不同，方法可以直接访问实例的数据"
   ]
  },
  {
   "cell_type": "code",
   "execution_count": 1,
   "metadata": {},
   "outputs": [],
   "source": [
    "# 定义一个Dog类\n",
    "class Dog():\n",
    "    def __init__(self, name, age):# 写进属性,第一个参数是self\n",
    "        self.name = name\n",
    "        self.age = age\n",
    "        self.ages = 0\n",
    "    # 类中定义的函数,第一个参数永远是实例变量self,并且调用时不用传递该参数\n",
    "    def update_ages(self, ages):\n",
    "        self.ages = ages\n",
    "\n",
    "    def sit(self):\n",
    "        print(self.name.title()+\" is now sitting.\")\n",
    "    def roll_over(self):\n",
    "        print(self.name.title()+\" rolled over!\")"
   ]
  },
  {
   "cell_type": "markdown",
   "metadata": {},
   "source": [
    "#### 数据封装\n",
    "面向对象编程的一个重要特点就是数据封装。\n",
    "\n",
    "封装数据的函数是和类本身是关联起来的,称之为类的方法\n",
    "\n",
    "#### 访问限制\n",
    "\n",
    "如果要让内部属性不被外部访问，可以把属性的名称前加上两个下划线__，在Python中，实例的变量名如果以__开头，就变成了一个私有变量（private），只有内部可以访问，外部不能访问\n"
   ]
  },
  {
   "cell_type": "code",
   "execution_count": null,
   "metadata": {},
   "outputs": [],
   "source": [
    "# 实例化类\n",
    "my_dog = Dog(\"Willie\", 6)\n",
    "my_dog.ages = 7 # 直接修改属性值\n",
    "my_dog.update_ages(8) # 通过方法修改属性值\n",
    "print(\"My dog's name is \" + my_dog.name.title() + '.')\n",
    "print(\"My dog is \" + str(my_dog.age) + \" years old.\")\n",
    "print(\"My dog is \" + str(my_dog.ages) + \" years old.\")\n",
    "my_dog.sit()\n",
    "my_dog.roll_over()"
   ]
  },
  {
   "cell_type": "markdown",
   "metadata": {},
   "source": [
    "#### 继承"
   ]
  },
  {
   "cell_type": "code",
   "execution_count": 2,
   "metadata": {},
   "outputs": [
    {
     "name": "stdout",
     "output_type": "stream",
     "text": [
      "My wolf's name is Wolf.\n",
      "My wolf is 123 years old.\n",
      "My wolf is 0 years old.\n",
      "long\n",
      "Wolf don't sit\n"
     ]
    }
   ],
   "source": [
    "class Wolf(Dog):\n",
    "    def __init__(self, name, age):\n",
    "        super().__init__(name, age)\n",
    "        self.ears = 'long'\n",
    "\n",
    "    def sit(self):\n",
    "        print(self.name.title() + \" don't sit\")\n",
    "        \n",
    "\n",
    "my_wolf = Wolf('wolf', 123)\n",
    "print(\"My wolf's name is \" + my_wolf.name.title() + '.')\n",
    "print(\"My wolf is \" + str(my_wolf.age) + \" years old.\")\n",
    "print(\"My wolf is \" + str(my_wolf.ages) + \" years old.\")\n",
    "print(my_wolf.ears)\n",
    "my_wolf.sit()\n",
    "\n"
   ]
  },
  {
   "cell_type": "code",
   "execution_count": null,
   "metadata": {},
   "outputs": [],
   "source": []
  }
 ],
 "metadata": {
  "file_extension": ".py",
  "kernelspec": {
   "display_name": "Python 3",
   "language": "python",
   "name": "python3"
  },
  "language_info": {
   "codemirror_mode": {
    "name": "ipython",
    "version": 3
   },
   "file_extension": ".py",
   "mimetype": "text/x-python",
   "name": "python",
   "nbconvert_exporter": "python",
   "pygments_lexer": "ipython3",
   "version": "3.7.4"
  },
  "mimetype": "text/x-python",
  "name": "python",
  "npconvert_exporter": "python",
  "pygments_lexer": "ipython3",
  "version": 3
 },
 "nbformat": 4,
 "nbformat_minor": 2
}
